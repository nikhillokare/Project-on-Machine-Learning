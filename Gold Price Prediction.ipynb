{
 "cells": [
  {
   "cell_type": "code",
   "execution_count": 47,
   "id": "3051e4ad-3cbf-493f-9fb9-78bb0f860929",
   "metadata": {},
   "outputs": [],
   "source": [
    "import pandas as pd\n",
    "import numpy as np\n",
    "import matplotlib.pyplot as plt\n",
    "import seaborn as sns\n",
    "from sklearn.model_selection import train_test_split\n",
    "from sklearn.ensemble import RandomForestRegressor\n",
    "from sklearn import metrics"
   ]
  },
  {
   "cell_type": "markdown",
   "id": "c0ecc080-931f-4175-a531-569991df1f0b",
   "metadata": {},
   "source": [
    "## DataSet Link - https://www.kaggle.com/datasets/altruistdelhite04/gold-price-data?select=gld_price_data.csv"
   ]
  },
  {
   "cell_type": "code",
   "execution_count": 20,
   "id": "71ad269d-7872-481c-a10c-22e39497eb47",
   "metadata": {},
   "outputs": [],
   "source": [
    "df = pd.read_csv('gld_price_data.csv')"
   ]
  },
  {
   "cell_type": "code",
   "execution_count": 21,
   "id": "57754234-d4af-408d-a2e0-94e61c87947a",
   "metadata": {},
   "outputs": [
    {
     "data": {
      "text/html": [
       "<div>\n",
       "<style scoped>\n",
       "    .dataframe tbody tr th:only-of-type {\n",
       "        vertical-align: middle;\n",
       "    }\n",
       "\n",
       "    .dataframe tbody tr th {\n",
       "        vertical-align: top;\n",
       "    }\n",
       "\n",
       "    .dataframe thead th {\n",
       "        text-align: right;\n",
       "    }\n",
       "</style>\n",
       "<table border=\"1\" class=\"dataframe\">\n",
       "  <thead>\n",
       "    <tr style=\"text-align: right;\">\n",
       "      <th></th>\n",
       "      <th>Date</th>\n",
       "      <th>SPX</th>\n",
       "      <th>GLD</th>\n",
       "      <th>USO</th>\n",
       "      <th>SLV</th>\n",
       "      <th>EUR/USD</th>\n",
       "    </tr>\n",
       "  </thead>\n",
       "  <tbody>\n",
       "    <tr>\n",
       "      <th>0</th>\n",
       "      <td>1/2/2008</td>\n",
       "      <td>1447.160034</td>\n",
       "      <td>84.860001</td>\n",
       "      <td>78.470001</td>\n",
       "      <td>15.180</td>\n",
       "      <td>1.471692</td>\n",
       "    </tr>\n",
       "    <tr>\n",
       "      <th>1</th>\n",
       "      <td>1/3/2008</td>\n",
       "      <td>1447.160034</td>\n",
       "      <td>85.570000</td>\n",
       "      <td>78.370003</td>\n",
       "      <td>15.285</td>\n",
       "      <td>1.474491</td>\n",
       "    </tr>\n",
       "    <tr>\n",
       "      <th>2</th>\n",
       "      <td>1/4/2008</td>\n",
       "      <td>1411.630005</td>\n",
       "      <td>85.129997</td>\n",
       "      <td>77.309998</td>\n",
       "      <td>15.167</td>\n",
       "      <td>1.475492</td>\n",
       "    </tr>\n",
       "    <tr>\n",
       "      <th>3</th>\n",
       "      <td>1/7/2008</td>\n",
       "      <td>1416.180054</td>\n",
       "      <td>84.769997</td>\n",
       "      <td>75.500000</td>\n",
       "      <td>15.053</td>\n",
       "      <td>1.468299</td>\n",
       "    </tr>\n",
       "    <tr>\n",
       "      <th>4</th>\n",
       "      <td>1/8/2008</td>\n",
       "      <td>1390.189941</td>\n",
       "      <td>86.779999</td>\n",
       "      <td>76.059998</td>\n",
       "      <td>15.590</td>\n",
       "      <td>1.557099</td>\n",
       "    </tr>\n",
       "  </tbody>\n",
       "</table>\n",
       "</div>"
      ],
      "text/plain": [
       "       Date          SPX        GLD        USO     SLV   EUR/USD\n",
       "0  1/2/2008  1447.160034  84.860001  78.470001  15.180  1.471692\n",
       "1  1/3/2008  1447.160034  85.570000  78.370003  15.285  1.474491\n",
       "2  1/4/2008  1411.630005  85.129997  77.309998  15.167  1.475492\n",
       "3  1/7/2008  1416.180054  84.769997  75.500000  15.053  1.468299\n",
       "4  1/8/2008  1390.189941  86.779999  76.059998  15.590  1.557099"
      ]
     },
     "execution_count": 21,
     "metadata": {},
     "output_type": "execute_result"
    }
   ],
   "source": [
    "df.head()"
   ]
  },
  {
   "cell_type": "code",
   "execution_count": 22,
   "id": "88b69a33-3dd3-4db5-a9d5-24009b7bf33c",
   "metadata": {},
   "outputs": [
    {
     "data": {
      "text/html": [
       "<div>\n",
       "<style scoped>\n",
       "    .dataframe tbody tr th:only-of-type {\n",
       "        vertical-align: middle;\n",
       "    }\n",
       "\n",
       "    .dataframe tbody tr th {\n",
       "        vertical-align: top;\n",
       "    }\n",
       "\n",
       "    .dataframe thead th {\n",
       "        text-align: right;\n",
       "    }\n",
       "</style>\n",
       "<table border=\"1\" class=\"dataframe\">\n",
       "  <thead>\n",
       "    <tr style=\"text-align: right;\">\n",
       "      <th></th>\n",
       "      <th>SPX</th>\n",
       "      <th>GLD</th>\n",
       "      <th>USO</th>\n",
       "      <th>SLV</th>\n",
       "      <th>EUR/USD</th>\n",
       "    </tr>\n",
       "  </thead>\n",
       "  <tbody>\n",
       "    <tr>\n",
       "      <th>count</th>\n",
       "      <td>2290.000000</td>\n",
       "      <td>2290.000000</td>\n",
       "      <td>2290.000000</td>\n",
       "      <td>2290.000000</td>\n",
       "      <td>2290.000000</td>\n",
       "    </tr>\n",
       "    <tr>\n",
       "      <th>mean</th>\n",
       "      <td>1654.315776</td>\n",
       "      <td>122.732875</td>\n",
       "      <td>31.842221</td>\n",
       "      <td>20.084997</td>\n",
       "      <td>1.283653</td>\n",
       "    </tr>\n",
       "    <tr>\n",
       "      <th>std</th>\n",
       "      <td>519.111540</td>\n",
       "      <td>23.283346</td>\n",
       "      <td>19.523517</td>\n",
       "      <td>7.092566</td>\n",
       "      <td>0.131547</td>\n",
       "    </tr>\n",
       "    <tr>\n",
       "      <th>min</th>\n",
       "      <td>676.530029</td>\n",
       "      <td>70.000000</td>\n",
       "      <td>7.960000</td>\n",
       "      <td>8.850000</td>\n",
       "      <td>1.039047</td>\n",
       "    </tr>\n",
       "    <tr>\n",
       "      <th>25%</th>\n",
       "      <td>1239.874969</td>\n",
       "      <td>109.725000</td>\n",
       "      <td>14.380000</td>\n",
       "      <td>15.570000</td>\n",
       "      <td>1.171313</td>\n",
       "    </tr>\n",
       "    <tr>\n",
       "      <th>50%</th>\n",
       "      <td>1551.434998</td>\n",
       "      <td>120.580002</td>\n",
       "      <td>33.869999</td>\n",
       "      <td>17.268500</td>\n",
       "      <td>1.303297</td>\n",
       "    </tr>\n",
       "    <tr>\n",
       "      <th>75%</th>\n",
       "      <td>2073.010070</td>\n",
       "      <td>132.840004</td>\n",
       "      <td>37.827501</td>\n",
       "      <td>22.882500</td>\n",
       "      <td>1.369971</td>\n",
       "    </tr>\n",
       "    <tr>\n",
       "      <th>max</th>\n",
       "      <td>2872.870117</td>\n",
       "      <td>184.589996</td>\n",
       "      <td>117.480003</td>\n",
       "      <td>47.259998</td>\n",
       "      <td>1.598798</td>\n",
       "    </tr>\n",
       "  </tbody>\n",
       "</table>\n",
       "</div>"
      ],
      "text/plain": [
       "               SPX          GLD          USO          SLV      EUR/USD\n",
       "count  2290.000000  2290.000000  2290.000000  2290.000000  2290.000000\n",
       "mean   1654.315776   122.732875    31.842221    20.084997     1.283653\n",
       "std     519.111540    23.283346    19.523517     7.092566     0.131547\n",
       "min     676.530029    70.000000     7.960000     8.850000     1.039047\n",
       "25%    1239.874969   109.725000    14.380000    15.570000     1.171313\n",
       "50%    1551.434998   120.580002    33.869999    17.268500     1.303297\n",
       "75%    2073.010070   132.840004    37.827501    22.882500     1.369971\n",
       "max    2872.870117   184.589996   117.480003    47.259998     1.598798"
      ]
     },
     "execution_count": 22,
     "metadata": {},
     "output_type": "execute_result"
    }
   ],
   "source": [
    "df.describe()"
   ]
  },
  {
   "cell_type": "code",
   "execution_count": 23,
   "id": "ebb40ce3-ad8d-4626-9f66-db116772d590",
   "metadata": {},
   "outputs": [
    {
     "name": "stdout",
     "output_type": "stream",
     "text": [
      "<class 'pandas.core.frame.DataFrame'>\n",
      "RangeIndex: 2290 entries, 0 to 2289\n",
      "Data columns (total 6 columns):\n",
      " #   Column   Non-Null Count  Dtype  \n",
      "---  ------   --------------  -----  \n",
      " 0   Date     2290 non-null   object \n",
      " 1   SPX      2290 non-null   float64\n",
      " 2   GLD      2290 non-null   float64\n",
      " 3   USO      2290 non-null   float64\n",
      " 4   SLV      2290 non-null   float64\n",
      " 5   EUR/USD  2290 non-null   float64\n",
      "dtypes: float64(5), object(1)\n",
      "memory usage: 107.5+ KB\n"
     ]
    }
   ],
   "source": [
    "df.info()"
   ]
  },
  {
   "cell_type": "code",
   "execution_count": 24,
   "id": "5b2f188e-dedc-4dd1-a9ba-cc3cc9c76aac",
   "metadata": {},
   "outputs": [
    {
     "data": {
      "text/plain": [
       "Date       0\n",
       "SPX        0\n",
       "GLD        0\n",
       "USO        0\n",
       "SLV        0\n",
       "EUR/USD    0\n",
       "dtype: int64"
      ]
     },
     "execution_count": 24,
     "metadata": {},
     "output_type": "execute_result"
    }
   ],
   "source": [
    "df.isnull().sum()"
   ]
  },
  {
   "cell_type": "code",
   "execution_count": 25,
   "id": "b998ab4e-afdc-4c1e-a495-ff3e353499d2",
   "metadata": {},
   "outputs": [
    {
     "data": {
      "text/plain": [
       "(2290, 6)"
      ]
     },
     "execution_count": 25,
     "metadata": {},
     "output_type": "execute_result"
    }
   ],
   "source": [
    "df.shape"
   ]
  },
  {
   "cell_type": "code",
   "execution_count": 33,
   "id": "bbe22038-5e46-4f97-9915-4003de1a97db",
   "metadata": {},
   "outputs": [
    {
     "data": {
      "text/plain": [
       "<bound method DataFrame.corr of            Date          SPX         GLD        USO      SLV   EUR/USD\n",
       "0      1/2/2008  1447.160034   84.860001  78.470001  15.1800  1.471692\n",
       "1      1/3/2008  1447.160034   85.570000  78.370003  15.2850  1.474491\n",
       "2      1/4/2008  1411.630005   85.129997  77.309998  15.1670  1.475492\n",
       "3      1/7/2008  1416.180054   84.769997  75.500000  15.0530  1.468299\n",
       "4      1/8/2008  1390.189941   86.779999  76.059998  15.5900  1.557099\n",
       "...         ...          ...         ...        ...      ...       ...\n",
       "2285   5/8/2018  2671.919922  124.589996  14.060000  15.5100  1.186789\n",
       "2286   5/9/2018  2697.790039  124.330002  14.370000  15.5300  1.184722\n",
       "2287  5/10/2018  2723.070068  125.180000  14.410000  15.7400  1.191753\n",
       "2288  5/14/2018  2730.129883  124.489998  14.380000  15.5600  1.193118\n",
       "2289  5/16/2018  2725.780029  122.543800  14.405800  15.4542  1.182033\n",
       "\n",
       "[2290 rows x 6 columns]>"
      ]
     },
     "execution_count": 33,
     "metadata": {},
     "output_type": "execute_result"
    }
   ],
   "source": [
    "df.corr"
   ]
  },
  {
   "cell_type": "code",
   "execution_count": 34,
   "id": "e9b60c5c-28e4-4f8d-98d5-79a4a605c8ca",
   "metadata": {},
   "outputs": [
    {
     "name": "stderr",
     "output_type": "stream",
     "text": [
      "/tmp/ipykernel_77/3736964373.py:1: UserWarning: \n",
      "\n",
      "`distplot` is a deprecated function and will be removed in seaborn v0.14.0.\n",
      "\n",
      "Please adapt your code to use either `displot` (a figure-level function with\n",
      "similar flexibility) or `histplot` (an axes-level function for histograms).\n",
      "\n",
      "For a guide to updating your code to use the new functions, please see\n",
      "https://gist.github.com/mwaskom/de44147ed2974457ad6372750bbe5751\n",
      "\n",
      "  sns.distplot(df['GLD'],color='green')\n"
     ]
    },
    {
     "data": {
      "text/plain": [
       "<AxesSubplot: xlabel='GLD', ylabel='Density'>"
      ]
     },
     "execution_count": 34,
     "metadata": {},
     "output_type": "execute_result"
    },
    {
     "data": {
      "image/png": "[encoded data removed]",
      "text/plain": [
       "<Figure size 640x480 with 1 Axes>"
      ]
     },
     "metadata": {},
     "output_type": "display_data"
    }
   ],
   "source": [
    "sns.distplot(df['GLD'],color='green')"
   ]
  },
  {
   "cell_type": "code",
   "execution_count": 36,
   "id": "eb51b2f3-e0f2-40f0-90fe-f53fe6c4cc8f",
   "metadata": {},
   "outputs": [],
   "source": [
    "# spliting the features and target\n",
    "\n",
    "X = df.drop(['Date','GLD'],axis=1)\n",
    "y = df['GLD']"
   ]
  },
  {
   "cell_type": "code",
   "execution_count": 37,
   "id": "3f2cd19a-95a2-472d-bdd0-f428a7aff179",
   "metadata": {},
   "outputs": [
    {
     "data": {
      "text/html": [
       "<div>\n",
       "<style scoped>\n",
       "    .dataframe tbody tr th:only-of-type {\n",
       "        vertical-align: middle;\n",
       "    }\n",
       "\n",
       "    .dataframe tbody tr th {\n",
       "        vertical-align: top;\n",
       "    }\n",
       "\n",
       "    .dataframe thead th {\n",
       "        text-align: right;\n",
       "    }\n",
       "</style>\n",
       "<table border=\"1\" class=\"dataframe\">\n",
       "  <thead>\n",
       "    <tr style=\"text-align: right;\">\n",
       "      <th></th>\n",
       "      <th>SPX</th>\n",
       "      <th>USO</th>\n",
       "      <th>SLV</th>\n",
       "      <th>EUR/USD</th>\n",
       "    </tr>\n",
       "  </thead>\n",
       "  <tbody>\n",
       "    <tr>\n",
       "      <th>0</th>\n",
       "      <td>1447.160034</td>\n",
       "      <td>78.470001</td>\n",
       "      <td>15.1800</td>\n",
       "      <td>1.471692</td>\n",
       "    </tr>\n",
       "    <tr>\n",
       "      <th>1</th>\n",
       "      <td>1447.160034</td>\n",
       "      <td>78.370003</td>\n",
       "      <td>15.2850</td>\n",
       "      <td>1.474491</td>\n",
       "    </tr>\n",
       "    <tr>\n",
       "      <th>2</th>\n",
       "      <td>1411.630005</td>\n",
       "      <td>77.309998</td>\n",
       "      <td>15.1670</td>\n",
       "      <td>1.475492</td>\n",
       "    </tr>\n",
       "    <tr>\n",
       "      <th>3</th>\n",
       "      <td>1416.180054</td>\n",
       "      <td>75.500000</td>\n",
       "      <td>15.0530</td>\n",
       "      <td>1.468299</td>\n",
       "    </tr>\n",
       "    <tr>\n",
       "      <th>4</th>\n",
       "      <td>1390.189941</td>\n",
       "      <td>76.059998</td>\n",
       "      <td>15.5900</td>\n",
       "      <td>1.557099</td>\n",
       "    </tr>\n",
       "    <tr>\n",
       "      <th>...</th>\n",
       "      <td>...</td>\n",
       "      <td>...</td>\n",
       "      <td>...</td>\n",
       "      <td>...</td>\n",
       "    </tr>\n",
       "    <tr>\n",
       "      <th>2285</th>\n",
       "      <td>2671.919922</td>\n",
       "      <td>14.060000</td>\n",
       "      <td>15.5100</td>\n",
       "      <td>1.186789</td>\n",
       "    </tr>\n",
       "    <tr>\n",
       "      <th>2286</th>\n",
       "      <td>2697.790039</td>\n",
       "      <td>14.370000</td>\n",
       "      <td>15.5300</td>\n",
       "      <td>1.184722</td>\n",
       "    </tr>\n",
       "    <tr>\n",
       "      <th>2287</th>\n",
       "      <td>2723.070068</td>\n",
       "      <td>14.410000</td>\n",
       "      <td>15.7400</td>\n",
       "      <td>1.191753</td>\n",
       "    </tr>\n",
       "    <tr>\n",
       "      <th>2288</th>\n",
       "      <td>2730.129883</td>\n",
       "      <td>14.380000</td>\n",
       "      <td>15.5600</td>\n",
       "      <td>1.193118</td>\n",
       "    </tr>\n",
       "    <tr>\n",
       "      <th>2289</th>\n",
       "      <td>2725.780029</td>\n",
       "      <td>14.405800</td>\n",
       "      <td>15.4542</td>\n",
       "      <td>1.182033</td>\n",
       "    </tr>\n",
       "  </tbody>\n",
       "</table>\n",
       "<p>2290 rows × 4 columns</p>\n",
       "</div>"
      ],
      "text/plain": [
       "              SPX        USO      SLV   EUR/USD\n",
       "0     1447.160034  78.470001  15.1800  1.471692\n",
       "1     1447.160034  78.370003  15.2850  1.474491\n",
       "2     1411.630005  77.309998  15.1670  1.475492\n",
       "3     1416.180054  75.500000  15.0530  1.468299\n",
       "4     1390.189941  76.059998  15.5900  1.557099\n",
       "...           ...        ...      ...       ...\n",
       "2285  2671.919922  14.060000  15.5100  1.186789\n",
       "2286  2697.790039  14.370000  15.5300  1.184722\n",
       "2287  2723.070068  14.410000  15.7400  1.191753\n",
       "2288  2730.129883  14.380000  15.5600  1.193118\n",
       "2289  2725.780029  14.405800  15.4542  1.182033\n",
       "\n",
       "[2290 rows x 4 columns]"
      ]
     },
     "execution_count": 37,
     "metadata": {},
     "output_type": "execute_result"
    }
   ],
   "source": [
    "X"
   ]
  },
  {
   "cell_type": "code",
   "execution_count": 38,
   "id": "6d72734a-3f08-4c23-a9a5-58f60fe091a4",
   "metadata": {},
   "outputs": [
    {
     "data": {
      "text/plain": [
       "0        84.860001\n",
       "1        85.570000\n",
       "2        85.129997\n",
       "3        84.769997\n",
       "4        86.779999\n",
       "           ...    \n",
       "2285    124.589996\n",
       "2286    124.330002\n",
       "2287    125.180000\n",
       "2288    124.489998\n",
       "2289    122.543800\n",
       "Name: GLD, Length: 2290, dtype: float64"
      ]
     },
     "execution_count": 38,
     "metadata": {},
     "output_type": "execute_result"
    }
   ],
   "source": [
    "y"
   ]
  },
  {
   "cell_type": "code",
   "execution_count": 39,
   "id": "6ed40665-591d-4b82-83a8-64a92b591927",
   "metadata": {},
   "outputs": [],
   "source": [
    "X_train,X_test,y_train,y_test = train_test_split(X,y,test_size=0.2,random_state=2)"
   ]
  },
  {
   "cell_type": "code",
   "execution_count": 40,
   "id": "72c67945-d026-4404-bd40-4e71673b8a62",
   "metadata": {},
   "outputs": [
    {
     "data": {
      "text/plain": [
       "(1832, 4)"
      ]
     },
     "execution_count": 40,
     "metadata": {},
     "output_type": "execute_result"
    }
   ],
   "source": [
    "X_train.shape"
   ]
  },
  {
   "cell_type": "code",
   "execution_count": 41,
   "id": "56b7153d-02f1-4e78-8b61-5d8332d565b5",
   "metadata": {},
   "outputs": [
    {
     "data": {
      "text/plain": [
       "(1832,)"
      ]
     },
     "execution_count": 41,
     "metadata": {},
     "output_type": "execute_result"
    }
   ],
   "source": [
    "y_train.shape"
   ]
  },
  {
   "cell_type": "code",
   "execution_count": 42,
   "id": "9628ec6e-ccbd-436e-bf83-c0f4081cf507",
   "metadata": {},
   "outputs": [],
   "source": [
    "# model training\n",
    "model = RandomForestRegressor(n_estimators=100)"
   ]
  },
  {
   "cell_type": "code",
   "execution_count": 43,
   "id": "66fa8d01-d413-4c92-825b-45aa98c4d9ca",
   "metadata": {},
   "outputs": [
    {
     "data": {
      "text/html": [
       "<style>#sk-container-id-1 {color: black;background-color: white;}#sk-container-id-1 pre{padding: 0;}#sk-container-id-1 div.sk-toggleable {background-color: white;}#sk-container-id-1 label.sk-toggleable__label {cursor: pointer;display: block;width: 100%;margin-bottom: 0;padding: 0.3em;box-sizing: border-box;text-align: center;}#sk-container-id-1 label.sk-toggleable__label-arrow:before {content: \"▸\";float: left;margin-right: 0.25em;color: #696969;}#sk-container-id-1 label.sk-toggleable__label-arrow:hover:before {color: black;}#sk-container-id-1 div.sk-estimator:hover label.sk-toggleable__label-arrow:before {color: black;}#sk-container-id-1 div.sk-toggleable__content {max-height: 0;max-width: 0;overflow: hidden;text-align: left;background-color: #f0f8ff;}#sk-container-id-1 div.sk-toggleable__content pre {margin: 0.2em;color: black;border-radius: 0.25em;background-color: #f0f8ff;}#sk-container-id-1 input.sk-toggleable__control:checked~div.sk-toggleable__content {max-height: 200px;max-width: 100%;overflow: auto;}#sk-container-id-1 input.sk-toggleable__control:checked~label.sk-toggleable__label-arrow:before {content: \"▾\";}#sk-container-id-1 div.sk-estimator input.sk-toggleable__control:checked~label.sk-toggleable__label {background-color: #d4ebff;}#sk-container-id-1 div.sk-label input.sk-toggleable__control:checked~label.sk-toggleable__label {background-color: #d4ebff;}#sk-container-id-1 input.sk-hidden--visually {border: 0;clip: rect(1px 1px 1px 1px);clip: rect(1px, 1px, 1px, 1px);height: 1px;margin: -1px;overflow: hidden;padding: 0;position: absolute;width: 1px;}#sk-container-id-1 div.sk-estimator {font-family: monospace;background-color: #f0f8ff;border: 1px dotted black;border-radius: 0.25em;box-sizing: border-box;margin-bottom: 0.5em;}#sk-container-id-1 div.sk-estimator:hover {background-color: #d4ebff;}#sk-container-id-1 div.sk-parallel-item::after {content: \"\";width: 100%;border-bottom: 1px solid gray;flex-grow: 1;}#sk-container-id-1 div.sk-label:hover label.sk-toggleable__label {background-color: #d4ebff;}#sk-container-id-1 div.sk-serial::before {content: \"\";position: absolute;border-left: 1px solid gray;box-sizing: border-box;top: 0;bottom: 0;left: 50%;z-index: 0;}#sk-container-id-1 div.sk-serial {display: flex;flex-direction: column;align-items: center;background-color: white;padding-right: 0.2em;padding-left: 0.2em;position: relative;}#sk-container-id-1 div.sk-item {position: relative;z-index: 1;}#sk-container-id-1 div.sk-parallel {display: flex;align-items: stretch;justify-content: center;background-color: white;position: relative;}#sk-container-id-1 div.sk-item::before, #sk-container-id-1 div.sk-parallel-item::before {content: \"\";position: absolute;border-left: 1px solid gray;box-sizing: border-box;top: 0;bottom: 0;left: 50%;z-index: -1;}#sk-container-id-1 div.sk-parallel-item {display: flex;flex-direction: column;z-index: 1;position: relative;background-color: white;}#sk-container-id-1 div.sk-parallel-item:first-child::after {align-self: flex-end;width: 50%;}#sk-container-id-1 div.sk-parallel-item:last-child::after {align-self: flex-start;width: 50%;}#sk-container-id-1 div.sk-parallel-item:only-child::after {width: 0;}#sk-container-id-1 div.sk-dashed-wrapped {border: 1px dashed gray;margin: 0 0.4em 0.5em 0.4em;box-sizing: border-box;padding-bottom: 0.4em;background-color: white;}#sk-container-id-1 div.sk-label label {font-family: monospace;font-weight: bold;display: inline-block;line-height: 1.2em;}#sk-container-id-1 div.sk-label-container {text-align: center;}#sk-container-id-1 div.sk-container {/* jupyter's `normalize.less` sets `[hidden] { display: none; }` but bootstrap.min.css set `[hidden] { display: none !important; }` so we also need the `!important` here to be able to override the default hidden behavior on the sphinx rendered scikit-learn.org. See: https://github.com/scikit-learn/scikit-learn/issues/21755 */display: inline-block !important;position: relative;}#sk-container-id-1 div.sk-text-repr-fallback {display: none;}</style><div id=\"sk-container-id-1\" class=\"sk-top-container\"><div class=\"sk-text-repr-fallback\"><pre>RandomForestRegressor()</pre><b>In a Jupyter environment, please rerun this cell to show the HTML representation or trust the notebook. <br />On GitHub, the HTML representation is unable to render, please try loading this page with nbviewer.org.</b></div><div class=\"sk-container\" hidden><div class=\"sk-item\"><div class=\"sk-estimator sk-toggleable\"><input class=\"sk-toggleable__control sk-hidden--visually\" id=\"sk-estimator-id-1\" type=\"checkbox\" checked><label for=\"sk-estimator-id-1\" class=\"sk-toggleable__label sk-toggleable__label-arrow\">RandomForestRegressor</label><div class=\"sk-toggleable__content\"><pre>RandomForestRegressor()</pre></div></div></div></div></div>"
      ],
      "text/plain": [
       "RandomForestRegressor()"
      ]
     },
     "execution_count": 43,
     "metadata": {},
     "output_type": "execute_result"
    }
   ],
   "source": [
    "model"
   ]
  },
  {
   "cell_type": "code",
   "execution_count": 44,
   "id": "52c061ab-915d-43b3-b8c3-b0295d03ab03",
   "metadata": {},
   "outputs": [
    {
     "data": {
      "text/html": [
       "<style>#sk-container-id-2 {color: black;background-color: white;}#sk-container-id-2 pre{padding: 0;}#sk-container-id-2 div.sk-toggleable {background-color: white;}#sk-container-id-2 label.sk-toggleable__label {cursor: pointer;display: block;width: 100%;margin-bottom: 0;padding: 0.3em;box-sizing: border-box;text-align: center;}#sk-container-id-2 label.sk-toggleable__label-arrow:before {content: \"▸\";float: left;margin-right: 0.25em;color: #696969;}#sk-container-id-2 label.sk-toggleable__label-arrow:hover:before {color: black;}#sk-container-id-2 div.sk-estimator:hover label.sk-toggleable__label-arrow:before {color: black;}#sk-container-id-2 div.sk-toggleable__content {max-height: 0;max-width: 0;overflow: hidden;text-align: left;background-color: #f0f8ff;}#sk-container-id-2 div.sk-toggleable__content pre {margin: 0.2em;color: black;border-radius: 0.25em;background-color: #f0f8ff;}#sk-container-id-2 input.sk-toggleable__control:checked~div.sk-toggleable__content {max-height: 200px;max-width: 100%;overflow: auto;}#sk-container-id-2 input.sk-toggleable__control:checked~label.sk-toggleable__label-arrow:before {content: \"▾\";}#sk-container-id-2 div.sk-estimator input.sk-toggleable__control:checked~label.sk-toggleable__label {background-color: #d4ebff;}#sk-container-id-2 div.sk-label input.sk-toggleable__control:checked~label.sk-toggleable__label {background-color: #d4ebff;}#sk-container-id-2 input.sk-hidden--visually {border: 0;clip: rect(1px 1px 1px 1px);clip: rect(1px, 1px, 1px, 1px);height: 1px;margin: -1px;overflow: hidden;padding: 0;position: absolute;width: 1px;}#sk-container-id-2 div.sk-estimator {font-family: monospace;background-color: #f0f8ff;border: 1px dotted black;border-radius: 0.25em;box-sizing: border-box;margin-bottom: 0.5em;}#sk-container-id-2 div.sk-estimator:hover {background-color: #d4ebff;}#sk-container-id-2 div.sk-parallel-item::after {content: \"\";width: 100%;border-bottom: 1px solid gray;flex-grow: 1;}#sk-container-id-2 div.sk-label:hover label.sk-toggleable__label {background-color: #d4ebff;}#sk-container-id-2 div.sk-serial::before {content: \"\";position: absolute;border-left: 1px solid gray;box-sizing: border-box;top: 0;bottom: 0;left: 50%;z-index: 0;}#sk-container-id-2 div.sk-serial {display: flex;flex-direction: column;align-items: center;background-color: white;padding-right: 0.2em;padding-left: 0.2em;position: relative;}#sk-container-id-2 div.sk-item {position: relative;z-index: 1;}#sk-container-id-2 div.sk-parallel {display: flex;align-items: stretch;justify-content: center;background-color: white;position: relative;}#sk-container-id-2 div.sk-item::before, #sk-container-id-2 div.sk-parallel-item::before {content: \"\";position: absolute;border-left: 1px solid gray;box-sizing: border-box;top: 0;bottom: 0;left: 50%;z-index: -1;}#sk-container-id-2 div.sk-parallel-item {display: flex;flex-direction: column;z-index: 1;position: relative;background-color: white;}#sk-container-id-2 div.sk-parallel-item:first-child::after {align-self: flex-end;width: 50%;}#sk-container-id-2 div.sk-parallel-item:last-child::after {align-self: flex-start;width: 50%;}#sk-container-id-2 div.sk-parallel-item:only-child::after {width: 0;}#sk-container-id-2 div.sk-dashed-wrapped {border: 1px dashed gray;margin: 0 0.4em 0.5em 0.4em;box-sizing: border-box;padding-bottom: 0.4em;background-color: white;}#sk-container-id-2 div.sk-label label {font-family: monospace;font-weight: bold;display: inline-block;line-height: 1.2em;}#sk-container-id-2 div.sk-label-container {text-align: center;}#sk-container-id-2 div.sk-container {/* jupyter's `normalize.less` sets `[hidden] { display: none; }` but bootstrap.min.css set `[hidden] { display: none !important; }` so we also need the `!important` here to be able to override the default hidden behavior on the sphinx rendered scikit-learn.org. See: https://github.com/scikit-learn/scikit-learn/issues/21755 */display: inline-block !important;position: relative;}#sk-container-id-2 div.sk-text-repr-fallback {display: none;}</style><div id=\"sk-container-id-2\" class=\"sk-top-container\"><div class=\"sk-text-repr-fallback\"><pre>RandomForestRegressor()</pre><b>In a Jupyter environment, please rerun this cell to show the HTML representation or trust the notebook. <br />On GitHub, the HTML representation is unable to render, please try loading this page with nbviewer.org.</b></div><div class=\"sk-container\" hidden><div class=\"sk-item\"><div class=\"sk-estimator sk-toggleable\"><input class=\"sk-toggleable__control sk-hidden--visually\" id=\"sk-estimator-id-2\" type=\"checkbox\" checked><label for=\"sk-estimator-id-2\" class=\"sk-toggleable__label sk-toggleable__label-arrow\">RandomForestRegressor</label><div class=\"sk-toggleable__content\"><pre>RandomForestRegressor()</pre></div></div></div></div></div>"
      ],
      "text/plain": [
       "RandomForestRegressor()"
      ]
     },
     "execution_count": 44,
     "metadata": {},
     "output_type": "execute_result"
    }
   ],
   "source": [
    "model.fit(X_train,y_train)"
   ]
  },
  {
   "cell_type": "code",
   "execution_count": 45,
   "id": "bed70d63-4566-4703-b6ce-0e7a88f6f7d2",
   "metadata": {},
   "outputs": [],
   "source": [
    "# model evalutation\n",
    "Test_data_prediction = model.predict(X_test)"
   ]
  },
  {
   "cell_type": "code",
   "execution_count": 46,
   "id": "5f10488c-60b8-4de3-99b7-056f751f49ff",
   "metadata": {},
   "outputs": [
    {
     "data": {
      "text/plain": [
       "array([168.23989932,  82.18559982, 116.04480052, 127.73740078,\n",
       "       120.64850115, 154.58259794, 150.60679819, 126.15790036,\n",
       "       117.5390989 , 125.95150085, 116.48670105, 172.25240096,\n",
       "       141.48889806, 167.59229902, 115.29309996, 117.69930043,\n",
       "       137.8184038 , 170.11240147, 159.17210318, 159.37209964,\n",
       "       155.20860023, 125.23450024, 176.28199912, 157.52610368,\n",
       "       125.24290035,  93.9253998 ,  77.64420006, 120.56640017,\n",
       "       119.0484992 , 167.53920009,  88.14100051, 125.36320016,\n",
       "        91.00660073, 117.6515005 , 121.06499868, 136.15810014,\n",
       "       115.67530102, 115.04010071, 147.75740007, 107.34350076,\n",
       "       104.55310209,  87.13949794, 126.57680062, 117.98110033,\n",
       "       153.61329881, 119.67739995, 108.38959993, 108.19919791,\n",
       "        93.2121008 , 127.16229795,  75.58830005, 113.65609923,\n",
       "       121.34120006, 111.33279923, 118.72769887, 120.75629924,\n",
       "       159.00569956, 168.23040144, 146.58349684,  85.80819864,\n",
       "        94.12730027,  86.78469937,  90.55910001, 119.01390069,\n",
       "       126.47260096, 127.52319997, 169.50100041, 122.29729934,\n",
       "       117.40329895,  98.46839994, 168.28190186, 142.9010984 ,\n",
       "       131.94020271, 121.15170209, 120.84369931, 120.05070021,\n",
       "       114.5812015 , 118.31690044, 107.14480118, 127.80700089,\n",
       "       113.5660998 , 107.3081001 , 116.52450048, 119.7814989 ,\n",
       "        89.08180066,  88.31479858, 146.63270263, 127.1553004 ,\n",
       "       113.23430033, 110.00899832, 108.18359898,  77.43679904,\n",
       "       168.90330166, 114.00869909, 121.50659914, 128.08820226,\n",
       "       154.91979814,  91.77799919, 135.45560138, 158.55480369,\n",
       "       125.68320044, 125.14330106, 130.65210187, 114.86150137,\n",
       "       119.81569961,  92.07929964, 110.24859871, 166.76359975,\n",
       "       156.41289934, 114.19479963, 106.49380134,  79.48099982,\n",
       "       113.32280041, 125.7926008 , 107.1195991 , 119.37230091,\n",
       "       155.22480315, 159.88429904, 120.5877999 , 134.27230366,\n",
       "       101.64059979, 117.58559786, 119.40170007, 112.9702009 ,\n",
       "       102.74639932, 160.46579817,  98.71060032, 148.1696996 ,\n",
       "       125.61600104, 168.84249983, 125.50979874, 127.38159764,\n",
       "       127.45170209, 113.61769939, 112.45390036, 123.69919909,\n",
       "       101.99089882,  89.31619977, 124.30799939, 101.84589929,\n",
       "       107.25159872, 113.50090087, 117.16490081,  99.18339903,\n",
       "       122.04530023, 163.65639928,  87.37479874, 106.5907995 ,\n",
       "       117.22990067, 127.56830109, 123.9157004 ,  80.81539899,\n",
       "       120.5097007 , 158.56099776,  88.06120002, 110.15199985,\n",
       "       118.77449905, 172.35129844, 102.91589914, 105.81700031,\n",
       "       122.59120023, 158.74219737,  87.4804983 ,  93.26670039,\n",
       "       112.58209999, 177.58609943, 114.6378    , 119.40790001,\n",
       "        94.73480115, 125.80430033, 166.32410182, 114.72690111,\n",
       "       116.7473013 ,  88.3050985 , 148.86150129, 120.31119936,\n",
       "        89.45419993, 112.25790009, 117.3951001 , 118.89470135,\n",
       "        88.19789953,  93.98139982, 116.83580028, 118.54670219,\n",
       "       120.19310035, 126.88459768, 121.99129976, 150.72159975,\n",
       "       165.23690063, 118.53869953, 120.29130133, 150.89710026,\n",
       "       118.37419914, 172.61579871, 105.63869965, 104.95560088,\n",
       "       149.66710142, 113.71570115, 124.84810114, 147.5372998 ,\n",
       "       119.64020163, 115.36500049, 112.58060003, 113.54100181,\n",
       "       143.04530055, 117.71319774, 102.98010053, 115.8791011 ,\n",
       "       103.56910191,  98.91470038, 117.21840053,  90.69509991,\n",
       "        91.28420083, 153.18179935, 102.64880008, 154.41830084,\n",
       "       114.38360185, 137.98340163,  90.12269883, 115.48529931,\n",
       "       114.52099971, 122.83300082, 121.7207007 , 165.03640057,\n",
       "        92.92919961, 135.31160159, 121.32349962, 120.91800071,\n",
       "       104.53050023, 143.85780252, 121.37699927, 116.72660057,\n",
       "       113.08720082, 127.27609693, 123.00869942, 125.73979972,\n",
       "       121.24330034,  86.83159931, 132.67290139, 144.08820222,\n",
       "        92.66559964, 159.95760017, 158.68510287, 126.37779893,\n",
       "       165.03559906, 108.77579944, 109.46530059, 103.53109817,\n",
       "        94.31640028, 127.38710262, 107.20480046, 163.72030011,\n",
       "       122.11790007, 131.9627995 , 130.66290205, 159.95479904,\n",
       "        90.11149906, 175.425102  , 127.62769994, 126.79489819,\n",
       "        86.44069956, 124.52829885, 150.328997  ,  89.63550041,\n",
       "       106.82979939, 109.02360009,  85.19949886, 135.9547999 ,\n",
       "       155.04110214, 140.43340248,  74.14010032, 153.18450064,\n",
       "       125.87149944, 126.7931    , 127.41559894, 108.65279955,\n",
       "       156.34500008, 114.53990093, 116.80970138, 125.12739935,\n",
       "       154.1559019 , 121.51999976, 156.34139852,  92.9270008 ,\n",
       "       125.57470164, 125.5987003 ,  88.10970088,  92.12429932,\n",
       "       126.2816992 , 128.4516034 , 112.99590056, 117.63519747,\n",
       "       120.95560017, 127.17769781, 119.33920098, 136.22670087,\n",
       "        93.82929911, 119.72360008, 113.2252011 ,  94.13829914,\n",
       "       109.12550006,  87.53869898, 109.04789933,  89.58319971,\n",
       "        92.43270027, 131.8180027 , 162.30130092,  89.40329996,\n",
       "       119.6790011 , 133.24370174, 123.95510008, 128.19940143,\n",
       "       101.8775985 ,  88.90829872, 131.48650044, 119.6797003 ,\n",
       "       108.61039977, 168.48730106, 115.37010038,  86.52929919,\n",
       "       118.76860052,  91.05309946, 161.85029993, 116.61760055,\n",
       "       121.78169962, 160.40989859, 120.04709933, 112.72669934,\n",
       "       108.42569855, 126.82100025,  76.18170062, 102.97459979,\n",
       "       127.16500256, 121.8617992 ,  92.66830013, 132.07050087,\n",
       "       118.31510102, 115.88189989, 154.27490255, 159.3047008 ,\n",
       "       110.20789935, 153.31999794, 119.33250096, 160.28510051,\n",
       "       118.37190025, 158.07589944, 115.15629943, 116.61070005,\n",
       "       149.47719865, 114.88480063, 125.79179895, 165.99179923,\n",
       "       117.72519998, 125.12579941, 153.43980352, 153.46790263,\n",
       "       132.28990044, 114.87830021, 121.24430188, 124.97460109,\n",
       "        89.77509992, 123.10930007, 154.76430174, 111.74760047,\n",
       "       106.6234997 , 161.95130192, 118.73899992, 165.83920041,\n",
       "       134.16690112, 114.9914999 , 152.99429882, 168.59589966,\n",
       "       114.30200017, 113.98100097, 158.76139942,  85.40039856,\n",
       "       126.99220082, 127.84690035, 128.73629932, 124.28240071,\n",
       "       124.02790071,  90.55040039, 153.45939939,  96.95789974,\n",
       "       136.31549976,  88.95589906, 107.318     , 115.03010037,\n",
       "       112.43890034, 124.47189917,  91.41819882, 125.39490102,\n",
       "       162.20639801, 119.86079875, 165.119201  , 126.91539746,\n",
       "       112.36280011, 127.50819957,  95.16629911,  90.85700008,\n",
       "       102.9966992 , 120.97159996,  82.8337997 , 126.39279994,\n",
       "       159.87310437, 117.08050082, 118.20559982, 119.93989966,\n",
       "       122.67219947, 120.01660123, 121.42870048, 118.1311006 ,\n",
       "       107.13309989, 148.29220039, 126.01139799, 115.82410087,\n",
       "        73.90320002, 127.8166008 , 153.99050073, 122.85769974,\n",
       "       125.58980045,  88.68650026, 103.7711986 , 124.98590039,\n",
       "       120.28470039,  73.45320076, 151.43980021, 121.29090037,\n",
       "       104.60749978,  86.57629779, 115.0017993 , 172.22139871,\n",
       "       119.85550084, 159.63609774, 113.09649961, 120.95500026,\n",
       "       118.82840105,  95.94829986, 118.92690001, 125.98110022,\n",
       "       118.60199968,  96.2106008 , 153.49090202, 122.28489965,\n",
       "       147.31259986, 159.27110264, 114.39130029, 122.44549955,\n",
       "       149.38929814, 127.06050036, 165.74360109, 135.88219974,\n",
       "       119.96919947, 167.89059897, 108.2772989 , 121.56769861,\n",
       "       139.49920136, 107.34639911])"
      ]
     },
     "execution_count": 46,
     "metadata": {},
     "output_type": "execute_result"
    }
   ],
   "source": [
    "Test_data_prediction"
   ]
  },
  {
   "cell_type": "code",
   "execution_count": 48,
   "id": "0a039637-61d6-41e0-906c-03aac8360acd",
   "metadata": {},
   "outputs": [
    {
     "name": "stdout",
     "output_type": "stream",
     "text": [
      "R squared Error: 0.9888088976307585\n"
     ]
    }
   ],
   "source": [
    "# R squared error\n",
    "error = metrics.r2_score(y_test,Test_data_prediction)\n",
    "print('R squared Error:',error)"
   ]
  },
  {
   "cell_type": "code",
   "execution_count": 49,
   "id": "0056b0e9-c066-4691-b4bc-1a792a1b8e44",
   "metadata": {},
   "outputs": [],
   "source": [
    "y_test = list(y_test)"
   ]
  },
  {
   "cell_type": "code",
   "execution_count": 52,
   "id": "d12cd331-8ed4-4762-a904-d4859e12f601",
   "metadata": {},
   "outputs": [
    {
     "data": {
      "image/png": "[encoded data removed]",
      "text/plain": [
       "<Figure size 640x480 with 1 Axes>"
      ]
     },
     "metadata": {},
     "output_type": "display_data"
    }
   ],
   "source": [
    "plt.plot(y_test,color='blue',label='Actual Value')\n",
    "plt.plot(Test_data_prediction,color='green',label='Predicted_value')\n",
    "plt.title('Actual Price Vs Predicted Price')\n",
    "plt.xlabel('Number od values')\n",
    "plt.ylabel('GLD Price')\n",
    "plt.legend()\n",
    "plt.show()"
   ]
  },
  {
   "cell_type": "code",
   "execution_count": null,
   "id": "3824fd7e-b19d-43b8-9dae-7e1b802a22c6",
   "metadata": {},
   "outputs": [],
   "source": []
  }
 ],
 "metadata": {
  "kernelspec": {
   "display_name": "Python 3 (ipykernel)",
   "language": "python",
   "name": "python3"
  },
  "language_info": {
   "codemirror_mode": {
    "name": "ipython",
    "version": 3
   },
   "file_extension": ".py",
   "mimetype": "text/x-python",
   "name": "python",
   "nbconvert_exporter": "python",
   "pygments_lexer": "ipython3",
   "version": "3.10.8"
  }
 },
 "nbformat": 4,
 "nbformat_minor": 5
}
